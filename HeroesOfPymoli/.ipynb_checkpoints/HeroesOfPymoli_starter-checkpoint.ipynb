{
 "cells": [
  {
   "cell_type": "markdown",
   "metadata": {},
   "source": [
    "### Note\n",
    "* Instructions have been included for each segment. You do not have to follow them exactly, but they are included to help you think through the steps."
   ]
  },
  {
   "cell_type": "code",
   "execution_count": null,
   "metadata": {},
   "outputs": [],
   "source": [
    "# Dependencies and Setup\n",
    "import pandas as pd\n",
    "import numpy as np\n",
    "\n",
    "# File to Load (Remember to Change These)\n",
    "file_to_load = \"Resources/purchase_data.csv\"\n",
    "\n",
    "# Read Purchasing File and store into Pandas data frame\n",
    "purchase_data = pd.read_csv(file_to_load)"
   ]
  },
  {
   "cell_type": "code",
   "execution_count": null,
   "metadata": {
    "scrolled": true
   },
   "outputs": [],
   "source": [
    "# convert to database and look at data\n",
    "purchase_data_df = pd.read_csv(file_to_load)\n",
    "purchase_data_df.head()"
   ]
  },
  {
   "cell_type": "code",
   "execution_count": null,
   "metadata": {
    "scrolled": false
   },
   "outputs": [],
   "source": [
    "# review the data types in columns\n",
    "purchase_data_df.dtypes"
   ]
  },
  {
   "cell_type": "code",
   "execution_count": null,
   "metadata": {},
   "outputs": [],
   "source": [
    "# Rename the SN column to Total Players and identify the total number of unique players\n",
    "playerdata_df = purchase_data_df.rename(columns={\"SN\": \"Total_Players\"})\n",
    "Total_Players = playerdata_df.groupby(\"Total_Players\")[\"Total_Players\"].nunique()\n",
    "Total_Players.count()\n",
    "tp_count = Total_Players.count()"
   ]
  },
  {
   "cell_type": "code",
   "execution_count": null,
   "metadata": {},
   "outputs": [],
   "source": [
    "#Create a new data frame referencing the total number of unique players\n",
    "total_players_df = pd.DataFrame({\n",
    "    \"Total Players\":[Total_Players.count()]})\n",
    "total_players_df"
   ]
  },
  {
   "cell_type": "code",
   "execution_count": null,
   "metadata": {},
   "outputs": [],
   "source": [
    "#Identify the number of unique Item IDs in the data set\n",
    "unique_items = purchase_data_df.groupby(\"Item ID\")[\"Item ID\"].nunique()\n",
    "unique = unique_items.count()\n",
    "\n",
    "#Calculate the total number of purchases\n",
    "purchases = purchase_data_df[\"Purchase ID\"].count()\n",
    "\n",
    "#Calculate the total revenue\n",
    "total_revenue = purchase_data_df[\"Price\"].sum()\n",
    "\n",
    "# Calculate the average price of the items from the total revenue and number of purchase\n",
    "average_price = ((total_revenue)/(purchases))\n"
   ]
  },
  {
   "cell_type": "code",
   "execution_count": null,
   "metadata": {
    "scrolled": true
   },
   "outputs": [],
   "source": [
    "#Create a new dictionary with purchasing analysis\n",
    "purchasing_analysis_df = pd.DataFrame({\n",
    "    \"Number of Unique Items\":[unique],\n",
    "    \"Average Price\":[average_price], \n",
    "    \"Number of Purchases\":[purchases], \n",
    "    \"Total Revenue\":[total_revenue]})\n",
    "purchasing_analysis_df\n"
   ]
  },
  {
   "cell_type": "code",
   "execution_count": null,
   "metadata": {
    "scrolled": true
   },
   "outputs": [],
   "source": [
    "#Clean the formatting of the database\n",
    "#file_df[\"avg_cost\"] = file_df[\"avg_cost\"].map(\"${:.2f}\".format)\n",
    "purchasing_analysis_df[\"Average Price\"] = purchasing_analysis_df[\"Average Price\"].map(\"${:.2f}\".format)\n",
    "purchasing_analysis_df[\"Total Revenue\"] = purchasing_analysis_df[\"Total Revenue\"].map(\"${:,.2f}\".format)\n",
    "purchasing_analysis_df"
   ]
  },
  {
   "cell_type": "markdown",
   "metadata": {},
   "source": [
    "## Gender Demographics"
   ]
  },
  {
   "cell_type": "markdown",
   "metadata": {},
   "source": [
    "* Percentage and Count of Male Players\n",
    "\n",
    "\n",
    "* Percentage and Count of Female Players\n",
    "\n",
    "\n",
    "* Percentage and Count of Other / Non-Disclosed\n",
    "\n",
    "\n"
   ]
  },
  {
   "cell_type": "code",
   "execution_count": null,
   "metadata": {
    "scrolled": true
   },
   "outputs": [],
   "source": [
    "#Clean data so that only unique players are present \n",
    "x = playerdata_df.duplicated(['Total_Players', 'Gender'])\n",
    "playerdata_df.loc[x, ['Total_Players', 'Gender']] = ''\n",
    "playerdata_df.tail()"
   ]
  },
  {
   "cell_type": "code",
   "execution_count": null,
   "metadata": {},
   "outputs": [],
   "source": [
    "#gender_group = playerdata_df.groupby([\"Gender\"])\n",
    "#gender_comparison_df = gender_group.count()\n",
    "#gender_comparison_df\n",
    "\n",
    "# Create a dataframe of the average stats for each type of pokemon.\n",
    "#pokemon_group = pokemon_type_df.groupby([\"Type 1\"])\n",
    "\n",
    "#pokemon_comparison_df = pokemon_group.mean()\n",
    "#pokemon_comparison_df"
   ]
  },
  {
   "cell_type": "code",
   "execution_count": null,
   "metadata": {
    "scrolled": true
   },
   "outputs": [],
   "source": [
    "#gender_compare_df = gender_comparison_df[[\"Purchase ID\"]]\n",
    "#new_gender_compare_df = gender_compare_df.rename(columns={\"Purchase ID\": \"Total Count\"})"
   ]
  },
  {
   "cell_type": "code",
   "execution_count": null,
   "metadata": {
    "scrolled": false
   },
   "outputs": [],
   "source": [
    "#Filter data by gender\n",
    "Male = playerdata_df.loc[playerdata_df[\"Gender\"] == \"Male\"]\n",
    "Male_Total = Male.count()\n",
    "\n",
    "Female = playerdata_df.loc[playerdata_df[\"Gender\"] == \"Female\"]\n",
    "Female_Total = Female.count()\n",
    "\n",
    "Other = playerdata_df.loc[playerdata_df[\"Gender\"] == \"Other / Non-Disclosed\"]\n",
    "Other_Total = Other.count()\n",
    "\n",
    "Gender = Male_Total + Female_Total + Other_Total\n",
    "Gender"
   ]
  },
  {
   "cell_type": "code",
   "execution_count": null,
   "metadata": {},
   "outputs": [],
   "source": [
    "male_percent = ((Male_Total)/(Gender)*100).map(\"{:,.2f}%\".format)\n",
    "female_percent = ((Female_Total)/(Gender)*100).map(\"{:,.2f}%\".format)\n",
    "other_percent = ((Other_Total)/(Gender)*100).map(\"{:,.2f}%\".format)"
   ]
  },
  {
   "cell_type": "code",
   "execution_count": null,
   "metadata": {},
   "outputs": [],
   "source": [
    "gender_analysis_df = pd.DataFrame({\n",
    "    \"\" : [\"Male\", \"Female\", \"Other / Non-Disclosed\"],\n",
    "    \"Total Count\":[Male_Total, Female_Total, Other_Total],\n",
    "    \"Percentage of Players\":[male_percent, female_percent, other_percent]})\n",
    "\n",
    "gender_analysis_df"
   ]
  },
  {
   "cell_type": "markdown",
   "metadata": {},
   "source": [
    "\n",
    "## Purchasing Analysis (Gender)"
   ]
  },
  {
   "cell_type": "markdown",
   "metadata": {},
   "source": [
    "* Run basic calculations to obtain purchase count, avg. purchase price, avg. purchase total per person etc. by gender\n",
    "\n",
    "\n",
    "\n",
    "\n",
    "* Create a summary data frame to hold the results\n",
    "\n",
    "\n",
    "* Optional: give the displayed data cleaner formatting\n",
    "\n",
    "\n",
    "* Display the summary data frame"
   ]
  },
  {
   "cell_type": "code",
   "execution_count": null,
   "metadata": {
    "scrolled": true
   },
   "outputs": [],
   "source": [
    "#Find the Purchase Count\n",
    "purchase_df = purchase_data_df.groupby([\"Gender\"])\n",
    "purchase_count = purchase_df[\"Purchase ID\"].count()\n",
    "purchase_count\n"
   ]
  },
  {
   "cell_type": "code",
   "execution_count": null,
   "metadata": {},
   "outputs": [],
   "source": [
    "#Find the Average Purchase Price\n",
    "purchase_price = purchase_df[\"Price\"].sum()\n",
    "avg_purchase_price = ((purchase_price)/(purchase_count)).map(\"${:,.2f}\".format)\n",
    "avg_purchase_price"
   ]
  },
  {
   "cell_type": "code",
   "execution_count": null,
   "metadata": {},
   "outputs": [],
   "source": [
    "#Find the Total Purchase Value\n",
    "purchase_value = purchase_df[\"Price\"].sum()\n",
    "total_purchase_value = purchase_value.map(\"${:,.2f}\".format)\n",
    "total_purchase_value\n"
   ]
  },
  {
   "cell_type": "code",
   "execution_count": null,
   "metadata": {},
   "outputs": [],
   "source": [
    "#Find purchase per person\n",
    "avg = purchase_value / tp_count\n",
    "avg\n",
    "#Avg_PPP = (purchase_value)/(tp_count)\n",
    "#Avg_PPP\n",
    "#Avg Total Purchase per Person"
   ]
  },
  {
   "cell_type": "code",
   "execution_count": null,
   "metadata": {},
   "outputs": [],
   "source": [
    "#construct Database\n",
    "Purchase_Analysis_Gender = pd.DataFrame({\n",
    "    \"Purchase Count\" : [purchase_count],\n",
    "    \"Average Purchase Price\":[avg_purchase_price],\n",
    "    \"Total Purchase Value\":[total_purchase_value],\n",
    "    \"Avg Total Purchase per Person\": [\"n/a\"]})\n",
    "\n",
    "Purchase_Analysis_Gender\n"
   ]
  },
  {
   "cell_type": "markdown",
   "metadata": {},
   "source": [
    "## Age Demographics"
   ]
  },
  {
   "cell_type": "markdown",
   "metadata": {},
   "source": [
    "* Establish bins for ages\n",
    "\n",
    "\n",
    "* Categorize the existing players using the age bins. Hint: use pd.cut()\n",
    "\n",
    "\n",
    "* Calculate the numbers and percentages by age group\n",
    "\n",
    "\n",
    "* Create a summary data frame to hold the results\n",
    "\n",
    "\n",
    "* Optional: round the percentage column to two decimal points\n",
    "\n",
    "\n",
    "* Display Age Demographics Table\n"
   ]
  },
  {
   "cell_type": "code",
   "execution_count": null,
   "metadata": {},
   "outputs": [],
   "source": [
    "#another attempt at droping duplicates\n",
    "age_demo_df = purchase_data_df.drop_duplicates(subset =\"SN\", keep ='first', inplace =False)\n",
    "age_demo_df.tail()\n",
    "\n",
    "#data.drop_duplicates(subset =\"First Name\", keep = False, inplace = True) "
   ]
  },
  {
   "cell_type": "code",
   "execution_count": null,
   "metadata": {},
   "outputs": [],
   "source": [
    "#Establish bins for age demographics\n",
    "bins = [0, 9, 14, 19, 24, 29, 34, 39, 40]\n",
    "labels = [\"<10\", \"10-14\", \"15-19\", \"20-24\", \"25-29\", \"30-34\", \"35-39\", \"40+\"]\n",
    "\n",
    "age_demo_df[\"Player Group\"] = pd.cut(age_demo_df[\"Age\"], bins, labels=labels, include_lowest=True)\n",
    "age_demo_df"
   ]
  },
  {
   "cell_type": "code",
   "execution_count": null,
   "metadata": {},
   "outputs": [],
   "source": [
    "#Calculate the numbers and percentages by age group\n",
    "#calculate the number of players in each age group\n",
    "player_age_df = age_demo_df.groupby([\"Player Group\"])\n",
    "age_group = player_age_df[\"Player Group\"].count()\n",
    "age_group"
   ]
  },
  {
   "cell_type": "code",
   "execution_count": null,
   "metadata": {},
   "outputs": [],
   "source": [
    "#calculate the percet of players in each age group\n",
    "age_percent = ((age_group)/(tp_count)*100).map(\"{:,.2f}%\".format)\n",
    "age_percent"
   ]
  },
  {
   "cell_type": "code",
   "execution_count": null,
   "metadata": {},
   "outputs": [],
   "source": [
    "#Create & Display summary age demographics data frame to hold the results"
   ]
  },
  {
   "cell_type": "markdown",
   "metadata": {},
   "source": [
    "## Purchasing Analysis (Age)"
   ]
  },
  {
   "cell_type": "markdown",
   "metadata": {},
   "source": [
    "* Bin the purchase_data data frame by age\n",
    "\n",
    "\n",
    "* Run basic calculations to obtain purchase count, avg. purchase price, avg. purchase total per person etc. in the table below\n",
    "\n",
    "\n",
    "* Create a summary data frame to hold the results\n",
    "\n",
    "\n",
    "* Optional: give the displayed data cleaner formatting\n",
    "\n",
    "\n",
    "* Display the summary data frame"
   ]
  },
  {
   "cell_type": "code",
   "execution_count": null,
   "metadata": {},
   "outputs": [],
   "source": [
    "#Establish bins for age demographics\n",
    "bins = [0, 9, 14, 19, 24, 29, 34, 39, 40]\n",
    "labels = [\"<10\", \"10-14\", \"15-19\", \"20-24\", \"25-29\", \"30-34\", \"35-39\", \"40+\"]\n",
    "\n",
    "purchase_data_df[\"Player Group\"] = pd.cut(purchase_data_df[\"Age\"], bins, labels=labels, include_lowest=True)\n",
    "purchase_data_df"
   ]
  },
  {
   "cell_type": "code",
   "execution_count": null,
   "metadata": {},
   "outputs": [],
   "source": [
    "#Age Purchase Count\n",
    "age_purchase_df = purchase_data_df.groupby([\"Player Group\"])\n",
    "age_purchase_count = age_purchase_df[\"Purchase ID\"].count()\n",
    "age_purchase_count"
   ]
  },
  {
   "cell_type": "code",
   "execution_count": null,
   "metadata": {},
   "outputs": [],
   "source": [
    "#Average Purchase Price\n",
    "age_purchase_price = age_purchase_df[\"Price\"].sum()\n",
    "avgage_purchase_price = ((age_purchase_price)/(age_purchase_count)).map(\"${:,.2f}\".format)\n",
    "avgage_purchase_price\n"
   ]
  },
  {
   "cell_type": "code",
   "execution_count": null,
   "metadata": {},
   "outputs": [],
   "source": [
    "#Total Purchase Value\n",
    "age_val = age_purchase_df[\"Price\"].sum()\n",
    "total_age_val = age_val.map(\"${:,.2f}\".format)\n",
    "total_age_val"
   ]
  },
  {
   "cell_type": "code",
   "execution_count": null,
   "metadata": {},
   "outputs": [],
   "source": [
    "#Avg Total Purchase per Person\n",
    "avg_purch_pp = total_age_val / tp_count\n",
    "avg_purch_pp"
   ]
  },
  {
   "cell_type": "code",
   "execution_count": null,
   "metadata": {},
   "outputs": [],
   "source": [
    "#Create the summary dataframe"
   ]
  },
  {
   "cell_type": "markdown",
   "metadata": {},
   "source": [
    "## Top Spenders"
   ]
  },
  {
   "cell_type": "markdown",
   "metadata": {},
   "source": [
    "* Run basic calculations to obtain the results in the table below\n",
    "\n",
    "\n",
    "* Create a summary data frame to hold the results\n",
    "\n",
    "\n",
    "* Sort the total purchase value column in descending order\n",
    "\n",
    "\n",
    "* Optional: give the displayed data cleaner formatting\n",
    "\n",
    "\n",
    "* Display a preview of the summary data frame\n",
    "\n"
   ]
  },
  {
   "cell_type": "code",
   "execution_count": null,
   "metadata": {},
   "outputs": [],
   "source": [
    "spender_df = purchase_data_df.rename(columns={\"Total_Players\": \"SN\"})\n",
    "group_spender_df = spender_df.groupby([\"SN\"])\n",
    "group_spender_df.tail()\n",
    "\n",
    "#purchase_data_df.sort_values([\"\"])\n"
   ]
  },
  {
   "cell_type": "code",
   "execution_count": null,
   "metadata": {},
   "outputs": [],
   "source": [
    "count_purchases = group_spender_df[\"Purchase ID\"].count()\n",
    "count_purchases.head(10)\n",
    "purchase_count = [count_purchases]\n",
    "purchase_count\n"
   ]
  },
  {
   "cell_type": "code",
   "execution_count": null,
   "metadata": {},
   "outputs": [],
   "source": [
    "group_spender_df[\"Purchase Count\"] = purchase_count\n",
    "group_spender_df.head()\n",
    "\n",
    "#weeks = training_df[\"Membership (Days)\"]/7\n",
    "#training_df[\"Membership (Weeks)\"] = weeks"
   ]
  },
  {
   "cell_type": "code",
   "execution_count": null,
   "metadata": {},
   "outputs": [],
   "source": [
    "#Average Purchase Price\n",
    "spender_price = group_spender_df[\"Price\"].sum()\n",
    "avg_spend_price = ((spender_price)/(count_purcheses)).map(\"${:,.2f}\".format)\n",
    "avg_spend_price.head(5)"
   ]
  },
  {
   "cell_type": "code",
   "execution_count": null,
   "metadata": {},
   "outputs": [],
   "source": [
    "#Total Purchase Value\n",
    "spend_val = group_spender_df[\"Price\"].sum()\n",
    "total_spend_val = spend_val.map(\"${:,.2f}\".format)\n",
    "total_spend_val.head(10)\n"
   ]
  },
  {
   "cell_type": "code",
   "execution_count": null,
   "metadata": {},
   "outputs": [],
   "source": [
    "#Create Dataframe\n",
    "spender_analysis_df = pd.DataFrame({\n",
    "    \"Purchase Count\":[count_purcheses],\n",
    "    \"Average Purchase Price\":[avg_spend_price], \n",
    "    \"Number of Purchases\":[purchases], \n",
    "    \"Total Purchase Value\":[total_spend_val]})\n",
    "\n",
    "\n",
    "spender_analysis_df.sort_values([\"Purchase Count\"], ascending=False)\n",
    "spender_analysis_df\n"
   ]
  },
  {
   "cell_type": "markdown",
   "metadata": {},
   "source": [
    "## Most Popular Items"
   ]
  },
  {
   "cell_type": "markdown",
   "metadata": {},
   "source": [
    "* Retrieve the Item ID, Item Name, and Item Price columns\n",
    "\n",
    "\n",
    "* Group by Item ID and Item Name. Perform calculations to obtain purchase count, average item price, and total purchase value\n",
    "\n",
    "\n",
    "* Create a summary data frame to hold the results\n",
    "\n",
    "\n",
    "* Sort the purchase count column in descending order\n",
    "\n",
    "\n",
    "* Optional: give the displayed data cleaner formatting\n",
    "\n",
    "\n",
    "* Display a preview of the summary data frame\n",
    "\n"
   ]
  },
  {
   "cell_type": "code",
   "execution_count": null,
   "metadata": {},
   "outputs": [],
   "source": [
    "popularity_df = purchase_data_df[[\"Item ID\", \"Item Name\", \"Price\"]]\n",
    "item_pop_df = popularity_df.groupby([\"Item ID\", \"Item Name\"])\n",
    "item_pop_df.head()\n"
   ]
  },
  {
   "cell_type": "code",
   "execution_count": null,
   "metadata": {},
   "outputs": [],
   "source": [
    "pop_count = item_pop_df[\"Item ID\"].count()\n",
    "pop_count.head()"
   ]
  },
  {
   "cell_type": "code",
   "execution_count": null,
   "metadata": {},
   "outputs": [],
   "source": [
    "#Average Item Price\n",
    "pop_price = item_pop_df[\"Price\"].sum()\n",
    "avg_pop_price = ((pop_price)/(pop_count)).map(\"${:,.2f}\".format)\n",
    "avg_pop_price.head(5)\n"
   ]
  },
  {
   "cell_type": "code",
   "execution_count": null,
   "metadata": {},
   "outputs": [],
   "source": [
    "#Total Purchase Value\n",
    "pop_val = item_pop_df[\"Price\"].sum()\n",
    "total_pop_val = pop_val.map(\"${:,.2f}\".format)\n",
    "total_pop_val.head()"
   ]
  },
  {
   "cell_type": "code",
   "execution_count": null,
   "metadata": {},
   "outputs": [],
   "source": [
    "#Create Database\n",
    "Popularity_Rank_df =  pd.DataFrame({\n",
    "    \"Purchase Count\":[count_purcheses],\n",
    "    \"Item Price\":[avg_pop_price], \n",
    "    \"Total Purchase Value\":[total_pop_val]})\n",
    "\n",
    "\n",
    "Popularity_Rank_df.sort_values([\"Purchase Count\"], ascending=False)\n",
    "Popularity_Rank_df"
   ]
  },
  {
   "cell_type": "markdown",
   "metadata": {},
   "source": [
    "## Most Profitable Items"
   ]
  },
  {
   "cell_type": "markdown",
   "metadata": {},
   "source": [
    "* Sort the above table by total purchase value in descending order\n",
    "\n",
    "\n",
    "* Optional: give the displayed data cleaner formatting\n",
    "\n",
    "\n",
    "* Display a preview of the data frame\n",
    "\n"
   ]
  },
  {
   "cell_type": "code",
   "execution_count": null,
   "metadata": {
    "scrolled": true
   },
   "outputs": [],
   "source": [
    "Profitablity_df = Popularity_Rank_df.sort_values([\"Total Purchase Value\"], ascending=False)"
   ]
  }
 ],
 "metadata": {
  "anaconda-cloud": {},
  "kernel_info": {
   "name": "python3"
  },
  "kernelspec": {
   "display_name": "Python 3",
   "language": "python",
   "name": "python3"
  },
  "language_info": {
   "codemirror_mode": {
    "name": "ipython",
    "version": 3
   },
   "file_extension": ".py",
   "mimetype": "text/x-python",
   "name": "python",
   "nbconvert_exporter": "python",
   "pygments_lexer": "ipython3",
   "version": "3.8.3"
  },
  "latex_envs": {
   "LaTeX_envs_menu_present": true,
   "autoclose": false,
   "autocomplete": true,
   "bibliofile": "biblio.bib",
   "cite_by": "apalike",
   "current_citInitial": 1,
   "eqLabelWithNumbers": true,
   "eqNumInitial": 1,
   "hotkeys": {
    "equation": "Ctrl-E",
    "itemize": "Ctrl-I"
   },
   "labels_anchors": false,
   "latex_user_defs": false,
   "report_style_numbering": false,
   "user_envs_cfg": false
  },
  "nteract": {
   "version": "0.2.0"
  }
 },
 "nbformat": 4,
 "nbformat_minor": 2
}
